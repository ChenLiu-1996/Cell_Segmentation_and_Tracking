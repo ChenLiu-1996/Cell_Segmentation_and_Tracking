{
 "cells": [
  {
   "cell_type": "markdown",
   "metadata": {},
   "source": [
    "# Cell Tracking Deep Learning Model\n",
    "\n",
    "Nanyan \"Rosalie\" Zhu & Chen \"Raphael\" Liu"
   ]
  },
  {
   "cell_type": "markdown",
   "metadata": {},
   "source": [
    "Background: ......\n"
   ]
  },
  {
   "cell_type": "markdown",
   "metadata": {},
   "source": [
    "## 1. System Setup"
   ]
  },
  {
   "cell_type": "markdown",
   "metadata": {},
   "source": [
    "### 1.1 Import packages"
   ]
  },
  {
   "cell_type": "code",
   "execution_count": 1,
   "metadata": {},
   "outputs": [],
   "source": [
    "import sys\n",
    "import os\n",
    "from shutil import copyfile\n",
    "from torch.backends import cudnn\n",
    "import random\n",
    "import numpy as np\n",
    "from glob import glob\n",
    "import matplotlib.pyplot as plt\n",
    "from skimage.morphology import disk\n",
    "from skimage.filters import rank\n",
    "from scipy import ndimage\n",
    "import scipy.ndimage.morphology as ndi_morph\n",
    "import skimage.morphology as skimage_morph\n",
    "import warnings"
   ]
  },
  {
   "cell_type": "markdown",
   "metadata": {},
   "source": [
    "### 1.2 Define Paths"
   ]
  },
  {
   "cell_type": "code",
   "execution_count": 2,
   "metadata": {},
   "outputs": [],
   "source": [
    "dataset_path = '/media/sail/SSD1T/Tal_cell_tracking/Cell_movie/'\n",
    "deep_learning_model_path = './deep_learning_model/'"
   ]
  },
  {
   "cell_type": "markdown",
   "metadata": {},
   "source": [
    "### 1.3 Add the deep_learning_model folder to system path.\n",
    "We did this in order to import files from the deep_learning_model folder and to make sure files inside can import from each other."
   ]
  },
  {
   "cell_type": "code",
   "execution_count": 3,
   "metadata": {},
   "outputs": [],
   "source": [
    "sys.path.append(deep_learning_model_path)"
   ]
  },
  {
   "cell_type": "markdown",
   "metadata": {},
   "source": [
    "### 1.4 Import functions and objects from files."
   ]
  },
  {
   "cell_type": "code",
   "execution_count": 5,
   "metadata": {},
   "outputs": [],
   "source": [
    "from solver import Solver\n",
    "from data_loader import get_loader\n",
    "from evaluation import get_MSE"
   ]
  },
  {
   "cell_type": "markdown",
   "metadata": {},
   "source": [
    "$$\\space$$\n",
    "\n",
    "## 2. Inspect the input (RGB images) and target (Gound Truth Segmentation) to the deep learning network."
   ]
  },
  {
   "cell_type": "markdown",
   "metadata": {},
   "source": [
    "### 2.1 Grab all the file directories in each category."
   ]
  },
  {
   "cell_type": "code",
   "execution_count": 13,
   "metadata": {},
   "outputs": [],
   "source": [
    "GT_files = []\n",
    "img_files = []\n",
    "for path, folder, files in os.walk(dataset_path):\n",
    "    if folder == []:\n",
    "        if path.split('/')[-1] == 'RRGroundTruthMask':\n",
    "            for name in list(np.sort(files)):\n",
    "                GT_files.append(os.path.join(path, name))\n",
    "        elif path.split('/')[-1] == 'Combined3Channels':\n",
    "            for name in list(np.sort(files)):\n",
    "                img_files.append(os.path.join(path, name))\n",
    "GT_train = list(np.sort(glob('/media/sail/SSD1T/Tal_cell_tracking/Nifti/annotation/*.png')))[1:]"
   ]
  },
  {
   "cell_type": "code",
   "execution_count": 14,
   "metadata": {},
   "outputs": [],
   "source": [
    "img_train = []\n",
    "train_image_name = [path.split('/')[-1].replace('annotation', 'Combined') for path in GT_train]\n",
    "name_list = [path.split('/')[-1] for path in img_files]\n",
    "for name in train_image_name:\n",
    "    img_train.append(img_files[name_list.index(name)])\n",
    "GT_val = GT_train\n",
    "GT_test = []\n",
    "\n",
    "img_val = img_train\n",
    "img_test = []\n",
    "         \n",
    "# test set\n",
    "for file in GT_files:\n",
    "    for folder in ['A1', 'D4']:\n",
    "        if folder in file.split('/')[-3] and int(file.split('/')[-1][-6:-4]) < 31:\n",
    "            GT_test.append(file)\n",
    "            \n",
    "for file in img_files:\n",
    "     for folder in ['A1', 'D4']:\n",
    "        if folder in file.split('/')[-3] and int(file.split('/')[-1][-6:-4]) < 31:\n",
    "            img_test.append(file)"
   ]
  },
  {
   "cell_type": "code",
   "execution_count": 15,
   "metadata": {},
   "outputs": [
    {
     "data": {
      "text/plain": [
       "(['/media/sail/SSD1T/Tal_cell_tracking/Cell_movie/A2/Combined3Channels/A2_Combined_T02.png',\n",
       "  '/media/sail/SSD1T/Tal_cell_tracking/Cell_movie/D5/Combined3Channels/D5_Combined_T02.png',\n",
       "  '/media/sail/SSD1T/Tal_cell_tracking/Cell_movie/D5/Combined3Channels/D5_Combined_T45.png'],\n",
       " ['/media/sail/SSD1T/Tal_cell_tracking/Nifti/annotation/A2_annotation_T02.png',\n",
       "  '/media/sail/SSD1T/Tal_cell_tracking/Nifti/annotation/D5_annotation_T02.png',\n",
       "  '/media/sail/SSD1T/Tal_cell_tracking/Nifti/annotation/D5_annotation_T45.png'])"
      ]
     },
     "execution_count": 15,
     "metadata": {},
     "output_type": "execute_result"
    }
   ],
   "source": [
    "img_train, GT_train"
   ]
  },
  {
   "cell_type": "code",
   "execution_count": 16,
   "metadata": {},
   "outputs": [
    {
     "data": {
      "text/plain": [
       "(3, 3, 3, 3, 60, 60)"
      ]
     },
     "execution_count": 16,
     "metadata": {},
     "output_type": "execute_result"
    }
   ],
   "source": [
    "len(GT_train), len(img_train), len(GT_val), len(img_val), len(GT_test), len(img_test)"
   ]
  },
  {
   "cell_type": "markdown",
   "metadata": {},
   "source": [
    "$$\\space$$\n",
    "\n",
    "## 3. Build the Deep Learning Network."
   ]
  },
  {
   "cell_type": "markdown",
   "metadata": {},
   "source": [
    "### 3.1 Define the class \"config\" (configuration) that passes parameters to the loader and solver."
   ]
  },
  {
   "cell_type": "markdown",
   "metadata": {},
   "source": [
    "### 3.5 Train the model."
   ]
  },
  {
   "cell_type": "code",
   "execution_count": 17,
   "metadata": {},
   "outputs": [],
   "source": [
    "warnings.filterwarnings(action = 'once')"
   ]
  },
  {
   "cell_type": "markdown",
   "metadata": {},
   "source": [
    "## Unet Layer and kernal number trials"
   ]
  },
  {
   "cell_type": "code",
   "execution_count": 19,
   "metadata": {},
   "outputs": [
    {
     "name": "stdout",
     "output_type": "stream",
     "text": [
      "image count in train path :3\n",
      "GT count in train path :3\n",
      "image count in validation path :3\n",
      "GT count in validation path :3\n",
      "image count in test path :60\n",
      "GT count in test path :60\n",
      "The U-Net path is ./result/num_annotation_3/model_weights/edge_enhance_Double/ResAttU_Net/SGD/learning_rate_0.0500/loss_function_BCE/batch_size_1/unet_layer_5/first_layer_numKernel_32/ResAttU_Net-SGD-0.0500-30-1-1-best.pkl\n",
      "Start training. The initial learning rate is: 0.05\n"
     ]
    },
    {
     "name": "stderr",
     "output_type": "stream",
     "text": [
      "/home/raphael/anaconda3/envs/Cyto/lib/python3.6/site-packages/torch/nn/modules/upsampling.py:129: UserWarning: nn.Upsample is deprecated. Use nn.functional.interpolate instead.\n",
      "  warnings.warn(\"nn.{} is deprecated. Use nn.functional.interpolate instead.\".format(self.name))\n"
     ]
    },
    {
     "name": "stdout",
     "output_type": "stream",
     "text": [
      "[Training] Epoch [1/30], Batch: 0, Batch size: 1, Average BCE Error: 0.6582600474357605\n",
      "[Training] Epoch [1/30], Train Loss: 0.162970, Run Time: 0.0243 [h]\n",
      "Current learning rate: 0.05\n",
      "[Validation] Epoch [1/30] Validation Loss: 0.178698, Run Time: 0.0012 [h]\n",
      "Best ResAttU_Net model score : 0.821302\n",
      "[Training] Epoch [2/30], Batch: 0, Batch size: 1, Average BCE Error: 0.09232208877801895\n",
      "[Training] Epoch [2/30], Train Loss: 0.088772, Run Time: 0.0248 [h]\n",
      "Current learning rate: 0.05\n",
      "[Validation] Epoch [2/30] Validation Loss: 0.167846, Run Time: 0.0012 [h]\n",
      "Best ResAttU_Net model score : 0.832154\n",
      "[Training] Epoch [3/30], Batch: 0, Batch size: 1, Average BCE Error: 0.08356746286153793\n",
      "[Training] Epoch [3/30], Train Loss: 0.085273, Run Time: 0.0246 [h]\n",
      "Current learning rate: 0.05\n",
      "[Validation] Epoch [3/30] Validation Loss: 0.154870, Run Time: 0.0011 [h]\n",
      "Best ResAttU_Net model score : 0.845130\n",
      "[Training] Epoch [4/30], Batch: 0, Batch size: 1, Average BCE Error: 0.14730054140090942\n",
      "[Training] Epoch [4/30], Train Loss: 0.084544, Run Time: 0.0244 [h]\n",
      "Current learning rate: 0.05\n",
      "[Validation] Epoch [4/30] Validation Loss: 0.171515, Run Time: 0.0012 [h]\n",
      "[Training] Epoch [5/30], Batch: 0, Batch size: 1, Average BCE Error: 0.06579643487930298\n",
      "[Training] Epoch [5/30], Train Loss: 0.076838, Run Time: 0.0244 [h]\n",
      "Current learning rate: 0.05\n",
      "[Validation] Epoch [5/30] Validation Loss: 0.156350, Run Time: 0.0012 [h]\n",
      "[Training] Epoch [6/30], Batch: 0, Batch size: 1, Average BCE Error: 0.10918878018856049\n",
      "[Training] Epoch [6/30], Train Loss: 0.075024, Run Time: 0.0244 [h]\n",
      "Current learning rate: 0.05\n",
      "[Validation] Epoch [6/30] Validation Loss: 0.185634, Run Time: 0.0012 [h]\n",
      "Validation loss stop decreasing. Adjust the learning rate to 0.025.\n",
      "[Training] Epoch [7/30], Batch: 0, Batch size: 1, Average BCE Error: 0.05489568039774895\n",
      "[Training] Epoch [7/30], Train Loss: 0.070348, Run Time: 0.0244 [h]\n",
      "Current learning rate: 0.025\n",
      "[Validation] Epoch [7/30] Validation Loss: 0.149357, Run Time: 0.0011 [h]\n",
      "Best ResAttU_Net model score : 0.850643\n",
      "[Training] Epoch [8/30], Batch: 0, Batch size: 1, Average BCE Error: 0.0983865037560463\n",
      "[Training] Epoch [8/30], Train Loss: 0.069199, Run Time: 0.0246 [h]\n",
      "Current learning rate: 0.025\n",
      "[Validation] Epoch [8/30] Validation Loss: 0.136321, Run Time: 0.0011 [h]\n",
      "Best ResAttU_Net model score : 0.863679\n",
      "[Training] Epoch [9/30], Batch: 0, Batch size: 1, Average BCE Error: 0.06802548468112946\n",
      "[Training] Epoch [9/30], Train Loss: 0.066547, Run Time: 0.0244 [h]\n",
      "Current learning rate: 0.025\n",
      "[Validation] Epoch [9/30] Validation Loss: 0.194473, Run Time: 0.0011 [h]\n",
      "Validation loss stop decreasing. Adjust the learning rate to 0.0125.\n",
      "[Training] Epoch [10/30], Batch: 0, Batch size: 1, Average BCE Error: 0.03130510076880455\n",
      "[Training] Epoch [10/30], Train Loss: 0.065036, Run Time: 0.0244 [h]\n",
      "Current learning rate: 0.0125\n",
      "[Validation] Epoch [10/30] Validation Loss: 0.131617, Run Time: 0.0011 [h]\n",
      "Best ResAttU_Net model score : 0.868383\n",
      "[Training] Epoch [11/30], Batch: 0, Batch size: 1, Average BCE Error: 0.05436009541153908\n",
      "[Training] Epoch [11/30], Train Loss: 0.063819, Run Time: 0.0244 [h]\n",
      "Current learning rate: 0.0125\n",
      "[Validation] Epoch [11/30] Validation Loss: 0.147877, Run Time: 0.0011 [h]\n",
      "Validation loss stop decreasing. Adjust the learning rate to 0.00625.\n",
      "[Training] Epoch [12/30], Batch: 0, Batch size: 1, Average BCE Error: 0.053802989423274994\n",
      "[Training] Epoch [12/30], Train Loss: 0.059666, Run Time: 0.0244 [h]\n",
      "Current learning rate: 0.00625\n",
      "[Validation] Epoch [12/30] Validation Loss: 0.135249, Run Time: 0.0011 [h]\n",
      "[Training] Epoch [13/30], Batch: 0, Batch size: 1, Average BCE Error: 0.045864537358284\n",
      "[Training] Epoch [13/30], Train Loss: 0.057390, Run Time: 0.0245 [h]\n",
      "Current learning rate: 0.00625\n",
      "[Validation] Epoch [13/30] Validation Loss: 0.138649, Run Time: 0.0011 [h]\n",
      "Validation loss stop decreasing. Adjust the learning rate to 0.003125.\n",
      "[Training] Epoch [14/30], Batch: 0, Batch size: 1, Average BCE Error: 0.03571176156401634\n",
      "[Training] Epoch [14/30], Train Loss: 0.054093, Run Time: 0.0244 [h]\n",
      "Current learning rate: 0.003125\n",
      "[Validation] Epoch [14/30] Validation Loss: 0.143469, Run Time: 0.0011 [h]\n",
      "[Training] Epoch [15/30], Batch: 0, Batch size: 1, Average BCE Error: 0.058828502893447876\n",
      "[Training] Epoch [15/30], Train Loss: 0.052582, Run Time: 0.0245 [h]\n",
      "Current learning rate: 0.003125\n",
      "[Validation] Epoch [15/30] Validation Loss: 0.141279, Run Time: 0.0011 [h]\n",
      "Validation loss stop decreasing. Adjust the learning rate to 0.0015625.\n",
      "[Training] Epoch [16/30], Batch: 0, Batch size: 1, Average BCE Error: 0.06892924755811691\n",
      "[Training] Epoch [16/30], Train Loss: 0.049869, Run Time: 0.0244 [h]\n",
      "Current learning rate: 0.0015625\n",
      "[Validation] Epoch [16/30] Validation Loss: 0.140037, Run Time: 0.0011 [h]\n",
      "[Training] Epoch [17/30], Batch: 0, Batch size: 1, Average BCE Error: 0.07226339727640152\n",
      "[Training] Epoch [17/30], Train Loss: 0.048529, Run Time: 0.0244 [h]\n",
      "Current learning rate: 0.0015625\n",
      "[Validation] Epoch [17/30] Validation Loss: 0.142056, Run Time: 0.0011 [h]\n",
      "Validation loss stop decreasing. Adjust the learning rate to 0.00078125.\n",
      "[Training] Epoch [18/30], Batch: 0, Batch size: 1, Average BCE Error: 0.05515660345554352\n",
      "[Training] Epoch [18/30], Train Loss: 0.046842, Run Time: 0.0245 [h]\n",
      "Current learning rate: 0.00078125\n",
      "[Validation] Epoch [18/30] Validation Loss: 0.144429, Run Time: 0.0011 [h]\n",
      "[Training] Epoch [19/30], Batch: 0, Batch size: 1, Average BCE Error: 0.04290015250444412\n",
      "[Training] Epoch [19/30], Train Loss: 0.045734, Run Time: 0.0245 [h]\n",
      "Current learning rate: 0.00078125\n",
      "[Validation] Epoch [19/30] Validation Loss: 0.148950, Run Time: 0.0011 [h]\n",
      "Validation loss stop decreasing. Adjust the learning rate to 0.000390625.\n",
      "[Training] Epoch [20/30], Batch: 0, Batch size: 1, Average BCE Error: 0.037630628794431686\n",
      "[Training] Epoch [20/30], Train Loss: 0.044418, Run Time: 0.0244 [h]\n",
      "Current learning rate: 0.000390625\n",
      "[Validation] Epoch [20/30] Validation Loss: 0.146365, Run Time: 0.0011 [h]\n",
      "[Training] Epoch [21/30], Batch: 0, Batch size: 1, Average BCE Error: 0.028800100088119507\n",
      "[Training] Epoch [21/30], Train Loss: 0.043814, Run Time: 0.0244 [h]\n",
      "Current learning rate: 0.000390625\n",
      "[Validation] Epoch [21/30] Validation Loss: 0.144770, Run Time: 0.0012 [h]\n",
      "[Training] Epoch [22/30], Batch: 0, Batch size: 1, Average BCE Error: 0.0487355999648571\n",
      "[Training] Epoch [22/30], Train Loss: 0.043236, Run Time: 0.0245 [h]\n",
      "Current learning rate: 0.000390625\n",
      "[Validation] Epoch [22/30] Validation Loss: 0.151017, Run Time: 0.0011 [h]\n",
      "[Training] Epoch [23/30], Batch: 0, Batch size: 1, Average BCE Error: 0.0645834282040596\n",
      "[Training] Epoch [23/30], Train Loss: 0.043058, Run Time: 0.0244 [h]\n",
      "Current learning rate: 0.000390625\n",
      "[Validation] Epoch [23/30] Validation Loss: 0.153036, Run Time: 0.0011 [h]\n",
      "[Training] Epoch [24/30], Batch: 0, Batch size: 1, Average BCE Error: 0.0355672687292099\n",
      "[Training] Epoch [24/30], Train Loss: 0.042410, Run Time: 0.0243 [h]\n",
      "Current learning rate: 0.000390625\n",
      "[Validation] Epoch [24/30] Validation Loss: 0.151150, Run Time: 0.0011 [h]\n",
      "[Training] Epoch [25/30], Batch: 0, Batch size: 1, Average BCE Error: 0.021049529314041138\n",
      "[Training] Epoch [25/30], Train Loss: 0.041944, Run Time: 0.0243 [h]\n",
      "Current learning rate: 0.000390625\n",
      "[Validation] Epoch [25/30] Validation Loss: 0.149703, Run Time: 0.0012 [h]\n",
      "[Training] Epoch [26/30], Batch: 0, Batch size: 1, Average BCE Error: 0.028188666328787804\n",
      "[Training] Epoch [26/30], Train Loss: 0.041522, Run Time: 0.0245 [h]\n",
      "Current learning rate: 0.000390625\n",
      "[Validation] Epoch [26/30] Validation Loss: 0.164103, Run Time: 0.0011 [h]\n",
      "[Training] Epoch [27/30], Batch: 0, Batch size: 1, Average BCE Error: 0.058121901005506516\n",
      "[Training] Epoch [27/30], Train Loss: 0.040862, Run Time: 0.0246 [h]\n",
      "Current learning rate: 0.000390625\n",
      "[Validation] Epoch [27/30] Validation Loss: 0.153366, Run Time: 0.0011 [h]\n",
      "[Training] Epoch [28/30], Batch: 0, Batch size: 1, Average BCE Error: 0.03720798343420029\n",
      "[Training] Epoch [28/30], Train Loss: 0.040544, Run Time: 0.0245 [h]\n",
      "Current learning rate: 0.000390625\n",
      "[Validation] Epoch [28/30] Validation Loss: 0.159779, Run Time: 0.0011 [h]\n",
      "[Training] Epoch [29/30], Batch: 0, Batch size: 1, Average BCE Error: 0.045996978878974915\n",
      "[Training] Epoch [29/30], Train Loss: 0.039984, Run Time: 0.0244 [h]\n",
      "Current learning rate: 0.000390625\n",
      "[Validation] Epoch [29/30] Validation Loss: 0.156755, Run Time: 0.0011 [h]\n",
      "[Training] Epoch [30/30], Batch: 0, Batch size: 1, Average BCE Error: 0.04754878208041191\n",
      "[Training] Epoch [30/30], Train Loss: 0.039153, Run Time: 0.0244 [h]\n",
      "Current learning rate: 0.000390625\n",
      "[Validation] Epoch [30/30] Validation Loss: 0.157024, Run Time: 0.0011 [h]\n"
     ]
    }
   ],
   "source": [
    "UnetLayers = int(5) # [int(5), int(4), int(3)]:    \n",
    "firstlayerkernal = int(32) # [int(64), int(48), int(32), int(16)]:\n",
    "class config():   \n",
    "    # model hyper-parameters\n",
    "    t = int(3) # t for Recurrent step of R2U_Net or R2AttU_Net'\n",
    "    img_ch = int(3)\n",
    "    GT_ch = int(1)\n",
    "    output_ch = int(1)\n",
    "    num_epochs = int(30)\n",
    "    num_workers = int(1)\n",
    "    patch_size = [800, 800]\n",
    "    patch_num = 24 # the actual patch will be 96 / down_factor ** 2\n",
    "    row_num = 4\n",
    "    down_factor = 1\n",
    "    mode = 'train'\n",
    "    debug = False\n",
    "\n",
    "    ############################### Adjust These ###################################\n",
    "    model_type = 'ResAttU_Net' # 'U_Net/R2U_Net/AttU_Net/R2AttU_Net/ResAttU_Net'\n",
    "    optimizer_choice = 'SGD'\n",
    "    annotation_num = len(img_train)\n",
    "    lr = float(0.05)  # initial learning rate\n",
    "    loss_function = 'BCE' # BCE/SmoothL1/\n",
    "    batch_size = int(1)\n",
    "    UnetLayer = UnetLayers\n",
    "    withTF = False\n",
    "    edge_enhance = 'Double' # 'True/Double'\n",
    "    first_layer_numKernel = firstlayerkernal\n",
    "\n",
    "\n",
    "\n",
    "    early_stop = False # shall we enable early stop?\n",
    "    ################################################################################\n",
    "\n",
    "    if optimizer_choice == 'Adam':\n",
    "        beta1 = float(0.5) # momentum1 in Adam\n",
    "        beta2 = float(0.999) # momentum2 in Adam\n",
    "    elif optimizer_choice == 'SGD':\n",
    "        momentum = float(0.9)\n",
    "    else:\n",
    "        print('No such optimizer available')\n",
    "\n",
    "    img_train = img_train\n",
    "    img_val = img_val\n",
    "    img_test = img_test\n",
    "\n",
    "    GT_train = GT_train\n",
    "    GT_val = GT_val\n",
    "    GT_test = GT_test\n",
    "    \n",
    "    result_path = './result/num_annotation_%d/' % annotation_num\n",
    "    model_weights_path = result_path + 'model_weights/'\n",
    "    predictions_path = result_path + 'predictions/'\n",
    "    loss_histories_path = result_path + 'loss_histories/'\n",
    "    test_result_comparison_path = result_path + 'test_result_comparison/'\n",
    "    \n",
    "\n",
    "    current_model_saving_path = model_weights_path + \\\n",
    "    'edge_enhance_%s/%s/%s/learning_rate_%.4f/loss_function_%s/batch_size_%d/unet_layer_%d/first_layer_numKernel_%d/' % (edge_enhance, model_type, optimizer_choice, lr, loss_function, batch_size, UnetLayer, first_layer_numKernel)\n",
    "    current_prediction_path = predictions_path + \\\n",
    "    'edge_enhance_%s/%s/%s/learning_rate_%.4f/loss_function_%s/batch_size_%d/unet_layer_%d/first_layer_numKernel_%d/' % (edge_enhance, model_type, optimizer_choice, lr, loss_function, batch_size, UnetLayer, first_layer_numKernel)\n",
    "    current_loss_history_path = loss_histories_path + \\\n",
    "    'edge_enhance_%s/%s/%s/learning_rate_%.4f/loss_function_%s/batch_size_%d/unet_layer_%d/first_layer_numKernel_%d/' % (edge_enhance, model_type, optimizer_choice, lr, loss_function, batch_size, UnetLayer, first_layer_numKernel)\n",
    "    \n",
    "\n",
    "    cuda_idx = int(1)\n",
    "\n",
    "\n",
    "cudnn.benchmark = True\n",
    "if config.model_type not in ['U_Net','R2U_Net','AttU_Net','R2AttU_Net', 'ResAttU_Net']:\n",
    "    print('ERROR!! model_type should be selected in U_Net/R2U_Net/AttU_Net/R2AttU_Net/ResAttU_Net')\n",
    "    print('Your input for model_type was %s'%model_type)\n",
    "\n",
    "for this_directory in [config.current_model_saving_path, config.current_loss_history_path, config.test_result_comparison_path]:\n",
    "    if not os.path.exists(this_directory):\n",
    "        os.makedirs(this_directory)\n",
    "\n",
    "train_loader = get_loader(config, mode = 'train')\n",
    "\n",
    "validation_loader = get_loader(config, mode = 'validation')\n",
    "\n",
    "test_loader = get_loader(config, mode = 'test', shuffle = False)\n",
    "\n",
    "warnings.filterwarnings(action = 'once')\n",
    "solver = Solver(config, train_loader, validation_loader, test_loader)\n",
    "train_loss_history, validation_loss_history = solver.train()\n",
    "\n",
    "np.save(config.current_loss_history_path + 'train_loss_history.npy', train_loss_history)\n",
    "np.save(config.current_loss_history_path + 'validation_loss_history.npy', validation_loss_history)"
   ]
  },
  {
   "cell_type": "code",
   "execution_count": 20,
   "metadata": {},
   "outputs": [
    {
     "data": {
      "text/plain": [
       "<matplotlib.legend.Legend at 0x7f11eb30d5c0>"
      ]
     },
     "execution_count": 20,
     "metadata": {},
     "output_type": "execute_result"
    },
    {
     "data": {
      "image/png": "[encoded data removed]",
      "text/plain": [
       "<Figure size 1080x720 with 1 Axes>"
      ]
     },
     "metadata": {
      "needs_background": "light"
     },
     "output_type": "display_data"
    }
   ],
   "source": [
    "train_loss_history = np.load(config.current_loss_history_path + 'train_loss_history.npy')\n",
    "validation_loss_history = np.load(config.current_loss_history_path + 'validation_loss_history.npy')\n",
    "fig, ax = plt.subplots(1,1, figsize= (15, 10))\n",
    "ax.plot(train_loss_history, color = 'skyblue')\n",
    "ax.plot(validation_loss_history, color = 'g')\n",
    "ax.set_xlim([0, 40])\n",
    "ax.spines['top'].set_visible(False)\n",
    "ax.spines['right'].set_visible(False)\n",
    "plt.xticks(fontsize = 20)\n",
    "plt.yticks(fontsize = 20)\n",
    "plt.legend(('Train Loss', 'Validation Loss'), fontsize = 15)"
   ]
  },
  {
   "cell_type": "code",
   "execution_count": null,
   "metadata": {},
   "outputs": [],
   "source": []
  }
 ],
 "metadata": {
  "kernelspec": {
   "display_name": "Python 3.6 Cyto",
   "language": "python",
   "name": "cyto"
  },
  "language_info": {
   "codemirror_mode": {
    "name": "ipython",
    "version": 3
   },
   "file_extension": ".py",
   "mimetype": "text/x-python",
   "name": "python",
   "nbconvert_exporter": "python",
   "pygments_lexer": "ipython3",
   "version": "3.6.8"
  }
 },
 "nbformat": 4,
 "nbformat_minor": 2
}
